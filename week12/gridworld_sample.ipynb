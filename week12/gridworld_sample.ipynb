{
 "cells": [
  {
   "cell_type": "markdown",
   "metadata": {},
   "source": [
    "# library"
   ]
  },
  {
   "cell_type": "code",
   "execution_count": 9,
   "metadata": {},
   "outputs": [],
   "source": [
    "from __future__ import print_function\n",
    "from IPython.display import display, clear_output\n",
    "from datetime import datetime, timedelta\n",
    "from itertools import product\n",
    "from pandas.plotting import register_matplotlib_converters\n",
    "\n",
    "import ipywidgets as widgets\n",
    "import numpy as np\n",
    "import matplotlib.pyplot as plt\n",
    "import pandas as pd\n",
    "import random\n",
    "\n",
    "pd.options.display.max_columns = None\n",
    "register_matplotlib_converters()\n",
    "\n",
    "%matplotlib inline"
   ]
  },
  {
   "cell_type": "code",
   "execution_count": 10,
   "metadata": {},
   "outputs": [],
   "source": [
    "# random strategy, gamma=0.9\n",
    "expected_values_random = np.array([\n",
    "    [ 3.3,  8.8,  4.4,  5.3,  1.5],\n",
    "    [ 1.5,  3.0,  2.3,  1.9,  0.5],\n",
    "    [ 0.1,  0.7,  0.7,  0.4, -0.4],\n",
    "    [-1.0, -0.4, -0.4, -0.6, -1.2],\n",
    "    [-1.9, -1.3, -1.2, -1.4, -2.0],\n",
    "])\n",
    "# optimal strategy, gamma=0.9\n",
    "expected_values = np.array([\n",
    "    [22.0, 24.4, 22.0, 19.4, 17.5],\n",
    "    [19.8, 22.0, 19.8, 17.8, 16.0],\n",
    "    [17.8, 19.8, 17.8, 16.0, 14.4],\n",
    "    [16.0, 17.8, 16.0, 14.4, 13.0],\n",
    "    [14.4, 16.0, 14.4, 13.0, 11.7]\n",
    "])"
   ]
  },
  {
   "cell_type": "markdown",
   "metadata": {},
   "source": [
    "# Agent"
   ]
  },
  {
   "cell_type": "code",
   "execution_count": 11,
   "metadata": {},
   "outputs": [],
   "source": [
    "from enum import Enum\n",
    "\n",
    "\n",
    "# 엑션 클래스\n",
    "class Action(Enum):\n",
    "    NORTH = 'N', 0, lambda x: (x[0] - 1, x[1]), (0, 1)\n",
    "    EAST = 'E', 1, lambda x: (x[0], x[1] + 1), (1, 0)\n",
    "    WEST = 'W', 2, lambda x: (x[0], x[1] - 1), (-1, 0)\n",
    "    SOUTH = 'S', 3, lambda x: (x[0] + 1, x[1]), (0, -1)\n",
    "    def __init__(self, display_name, index, transition, direction):\n",
    "        self.display_name = display_name\n",
    "        self.index = index\n",
    "        self.transition = transition  # numpy row-major coordinates\n",
    "        self.direction = direction  # matplotlib coordinates\n",
    "        \n",
    "    def __str__(self):\n",
    "        return self.display_name"
   ]
  },
  {
   "cell_type": "code",
   "execution_count": 12,
   "metadata": {},
   "outputs": [],
   "source": [
    "# agent 기본 클래스\n",
    "class Agent(object):\n",
    "    def __init__(self, name):\n",
    "        self.name = name\n",
    "        \n",
    "    def policy(self, state):\n",
    "        \"\"\"Return an Action given STATE\"\"\"\n",
    "        raise NotImplementedError()"
   ]
  },
  {
   "cell_type": "code",
   "execution_count": 14,
   "metadata": {},
   "outputs": [],
   "source": [
    "# 무작위 행동을 하는 agent\n",
    "class RandomAgent(Agent):\n",
    "    def __init__(self, name='Random'):\n",
    "        super().__init__(name)\n",
    "        self.state_values = np.random.randn(5, 5)\n",
    "    \n",
    "    def policy(self, state):\n",
    "        return random.choice([a for a in Action])"
   ]
  },
  {
   "cell_type": "code",
   "execution_count": 33,
   "metadata": {},
   "outputs": [],
   "source": [
    "# Greedy한 행동을 하는 agent\n",
    "class GreedyAgent(Agent):\n",
    "    def __init__(self, state_values=None, name='Optimal', gamma=0.9):\n",
    "        super().__init__(name)\n",
    "        if state_values is None:\n",
    "            state_values = np.random.randn(5, 5)\n",
    "        self.state_values = state_values  # v(s)\n",
    "        self.gamma = gamma\n",
    "        \n",
    "        self.environment = Gridworld()\n",
    "        \n",
    "    def policy(self, state):\n",
    "        action = None\n",
    "        max_action_value = -1000\n",
    "        for a in Action:\n",
    "            self.environment.set_state(state)\n",
    "            s1, r = self.environment.transition(a)\n",
    "\n",
    "            # to-do\n",
    "            action_value = r + self.gamma * self.state_values[s1]\n",
    "            if action_value > max_action_value:\n",
    "                action = a\n",
    "                max_action_value = action_value    \n",
    "            # greedy 쓰려고 비워놨음\n",
    "            \n",
    "                \n",
    "        return action"
   ]
  },
  {
   "cell_type": "code",
   "execution_count": 34,
   "metadata": {},
   "outputs": [],
   "source": [
    "# e-greed 행동을 하는 agent\n",
    "class EpsilonGreedyAgent(GreedyAgent):\n",
    "    def __init__(self, epsilon=1e-2, **kwargs):\n",
    "        super().__init__(**kwargs)\n",
    "        self.epsilon = epsilon\n",
    "        \n",
    "    def policy(self, state):\n",
    "        # to-do \n",
    "                \n",
    "        return super().policy(state)"
   ]
  },
  {
   "cell_type": "code",
   "execution_count": 35,
   "metadata": {},
   "outputs": [],
   "source": [
    "# 몬테카를로 등에서 환경에 대한 모델없이 학습하여 최적 정책을 찾는 agent\n",
    "class LearnedAgent(Agent): \n",
    "    def __init__(self, name='Learned', gamma=0.9, dim=5, epsilon=0):\n",
    "        super().__init__(name)\n",
    "        self.action_values = np.random.randn(5, 5, 4)  # q(s, a)\n",
    "        self._policy = {s: random.choice([a for a in Action])\n",
    "                        for s in product(range(dim), range(dim))}\n",
    "        self.gamma = gamma\n",
    "        self.epsilon = epsilon\n",
    "        \n",
    "    # e-greed 행동\n",
    "    def policy(self, state):\n",
    "        # to-do \n",
    "        if random.random() < self.epsilon:\n",
    "            return random.choice([a for a in Action])\n",
    "\n",
    "        return self._policy[state]\n",
    "    \n",
    "    def update_state_policy(self, s):\n",
    "        old_action = self._policy[s]\n",
    "        stable = True\n",
    "        max_action_value = -1000\n",
    "        for a in Action:\n",
    "            action_value = self.action_values[(s[0], s[1], a.index)]\n",
    "            if action_value > max_action_value:\n",
    "                action = a\n",
    "                max_action_value = action_value\n",
    "        if action != old_action:\n",
    "            policy_stable = False\n",
    "        self._policy[s] = action\n",
    "        return stable        \n",
    "    \n",
    "    def policy_improvement(self):\n",
    "        policy_stable = True\n",
    "        for s in self._policy.keys():\n",
    "            stable = self.update_state_policy(s)\n",
    "            if not stable:\n",
    "                policy_stable = False\n",
    "            \n",
    "        return policy_stable"
   ]
  },
  {
   "cell_type": "markdown",
   "metadata": {},
   "source": [
    "# Environment"
   ]
  },
  {
   "cell_type": "code",
   "execution_count": 36,
   "metadata": {},
   "outputs": [],
   "source": [
    "class Gridworld(object):\n",
    "    def __init__(self, initial_state=(0, 0)):\n",
    "        self.dim = 5\n",
    "        self.state = initial_state\n",
    "        \n",
    "    def set_state(self, state):\n",
    "        self.state = state\n",
    "\n",
    "    def _transition_state(self, action):\n",
    "        \"\"\"Try to apply the ACTION and check whether it is valid\"\"\"\n",
    "        x, y = action.transition(self.state)\n",
    "        if x < 0 or x >= self.dim:\n",
    "            return self.state\n",
    "        elif y < 0 or y >= self.dim:\n",
    "            return self.state\n",
    "        return x, y\n",
    "    \n",
    "    def transition(self, action):\n",
    "        \"\"\"Apply the given ACTION to the current state and return the new state and reward.\"\"\"\n",
    "        reward = 0\n",
    "        if self.state == (0, 1):  # special state A            \n",
    "            new_state = (4, 1)\n",
    "            reward = 10\n",
    "        elif self.state == (0, 3):  # specal state B\n",
    "            new_state = (2, 3)\n",
    "            reward = 5\n",
    "        else:\n",
    "            new_state = self._transition_state(action)\n",
    "            # invalid move\n",
    "            if new_state == self.state:\n",
    "                reward = -1\n",
    "\n",
    "        self.state = new_state\n",
    "        return new_state, reward     "
   ]
  },
  {
   "cell_type": "code",
   "execution_count": 37,
   "metadata": {},
   "outputs": [],
   "source": [
    "def display_state_values(state_values, title=None, save_path=None, plot_actions=True):\n",
    "    fig, ax = plt.subplots(figsize=(4.8, 4.8))\n",
    "    if title:\n",
    "        ax.set_title(title)\n",
    "    # Transform row-major numpy coords to matplotlib coords        \n",
    "    transformed_values = np.rot90(state_values.T)\n",
    "    im = ax.imshow(transformed_values, cmap='hot')\n",
    "    fig.colorbar(im, ax=ax)\n",
    "    \n",
    "    if plot_actions:\n",
    "        agent = GreedyAgent(state_values)\n",
    "        for s in product(range(5), range(5)):\n",
    "            action = agent.policy(s)\n",
    "            dx, dy = action.direction\n",
    "\n",
    "            # Transform row-major numpy coords to matplotlib coords\n",
    "            x, y = s[1], 4 - s[0]\n",
    "            ax.arrow(x - 0.25 * dx, y - 0.25 * dy, 0.5 * dx, 0.5 * dy, head_width=0.05)\n",
    "    \n",
    "    ax.set_xlim(-0.5, 4.5)\n",
    "    ax.set_ylim(-0.5, 4.5)\n",
    "    if save_path:\n",
    "        plt.savefig(save_path)\n",
    "    plt.show()\n",
    "\n",
    "    \n",
    "def display_state(state, fig=None, ax=None):\n",
    "    if ax == None:        \n",
    "        fig, ax = plt.subplots(figsize=(6.4*2, 4.8))\n",
    "    grid = np.zeros((5, 5))\n",
    "    grid[state[0], state[1]] = 1\n",
    "    ax.imshow(grid, cmap='viridis')\n",
    "    display(fig)\n",
    "    clear_output(wait=True)\n",
    "    plt.show()"
   ]
  },
  {
   "cell_type": "code",
   "execution_count": 38,
   "metadata": {},
   "outputs": [
    {
     "data": {
      "image/png": "[encoded data removed]",
      "text/plain": [
       "<Figure size 480x480 with 2 Axes>"
      ]
     },
     "metadata": {},
     "output_type": "display_data"
    }
   ],
   "source": [
    "display_state_values(expected_values_random, title='Solution: Random Agent', plot_actions=False)"
   ]
  },
  {
   "cell_type": "code",
   "execution_count": 39,
   "metadata": {},
   "outputs": [
    {
     "data": {
      "image/png": "[encoded data removed]",
      "text/plain": [
       "<Figure size 480x480 with 2 Axes>"
      ]
     },
     "metadata": {},
     "output_type": "display_data"
    }
   ],
   "source": [
    "display_state_values(expected_values, title='Solution: Optimal Agent')"
   ]
  },
  {
   "cell_type": "markdown",
   "metadata": {},
   "source": [
    "# DP - value iteration"
   ]
  },
  {
   "cell_type": "code",
   "execution_count": 40,
   "metadata": {},
   "outputs": [],
   "source": [
    "def value_iteration(gamma=0.9, epsilon=1e-4):\n",
    "    # state 및 환경 초기화\n",
    "    #각 state별로 가치가 어떻게 되어있는지 출력을 하고 시각화를 하는 예제\n",
    "    state_values = np.random.randn(5, 5) \n",
    "    dim = 5\n",
    "    environment = Gridworld()\n",
    "\n",
    "    delta = 1000\n",
    "    while delta > epsilon: # 가치함수 변화량이 매우 작아지면 종료 (어느정도 변화량이 적어지면 종료를 하겠다!)\n",
    "        delta = 0\n",
    "        for s0 in product(range(dim), range(dim)): # 모든 state에 대해서 반복문 실행 (0,1이 나올수도 있고 0,2가 나올수도 있고 등등..)\n",
    "            v_s0 = state_values[s0] # 선택된 state에 대한 현재 가치함수 (s0에 대한 현재 가치값)\n",
    "\n",
    "\n",
    "            ######이 부분 추가하기!!######\n",
    "            ########################\n",
    "                        #value iteration\n",
    "            optimal_action_value = -10000\n",
    "            for a in Action:\n",
    "                environment.set_state(s0)\n",
    "                s1, r = environment.transition(a)\n",
    "                v_s1 = state_values[s1]\n",
    "\n",
    "                action_values = r + gamma +v_s1\n",
    "                optimal_action_value = max(action_values,optimal_action_value)\n",
    "            state_values[s0] = optimal_action_value\n",
    "\n",
    "            # 가치 반복에서는 greedy하게 action을 선택(현재 가장 좋은 action 선택)\n",
    "            # environment.set_state(s0)로 현재 state 설정\n",
    "            # environment.transition(a)로 action을 가하여 이동한 state와 reward 획득\n",
    "            # 가장 높은 가치를 갖는 action 탐색 \n",
    "            # state_values 업데이트\n",
    "\n",
    "            #vk+1 state에 대한 새로운 가치를 받아와서 state_value를 업데아트 해보기!(delta를 계산을 해보고)\n",
    "\n",
    "            # to-do\n",
    "            \n",
    "            delta += abs(v_s0 - optimal_action_value) # 가치함수 변화량이 매우 작아지면 (??종료 초기값이랑 delta 빼서 뭐)\n",
    "\n",
    "    return state_values"
   ]
  },
  {
   "cell_type": "code",
   "execution_count": 41,
   "metadata": {},
   "outputs": [
    {
     "ename": "KeyboardInterrupt",
     "evalue": "",
     "output_type": "error",
     "traceback": [
      "\u001b[0;31m---------------------------------------------------------------------------\u001b[0m",
      "\u001b[0;31mKeyboardInterrupt\u001b[0m                         Traceback (most recent call last)",
      "\u001b[1;32m/home/gyumin/mobility/week12/gridworld_sample.ipynb Cell 18\u001b[0m line \u001b[0;36m1\n\u001b[0;32m----> <a href='vscode-notebook-cell:/home/gyumin/mobility/week12/gridworld_sample.ipynb#X23sZmlsZQ%3D%3D?line=0'>1</a>\u001b[0m vi_state_values \u001b[39m=\u001b[39m value_iteration()\n\u001b[1;32m      <a href='vscode-notebook-cell:/home/gyumin/mobility/week12/gridworld_sample.ipynb#X23sZmlsZQ%3D%3D?line=1'>2</a>\u001b[0m display_state_values(vi_state_values, title\u001b[39m=\u001b[39m\u001b[39m'\u001b[39m\u001b[39mValue Iteration\u001b[39m\u001b[39m'\u001b[39m)\n\u001b[1;32m      <a href='vscode-notebook-cell:/home/gyumin/mobility/week12/gridworld_sample.ipynb#X23sZmlsZQ%3D%3D?line=2'>3</a>\u001b[0m vi_state_values\n",
      "\u001b[1;32m/home/gyumin/mobility/week12/gridworld_sample.ipynb Cell 18\u001b[0m line \u001b[0;36m2\n\u001b[1;32m     <a href='vscode-notebook-cell:/home/gyumin/mobility/week12/gridworld_sample.ipynb#X23sZmlsZQ%3D%3D?line=18'>19</a>\u001b[0m \u001b[39mfor\u001b[39;00m a \u001b[39min\u001b[39;00m Action:\n\u001b[1;32m     <a href='vscode-notebook-cell:/home/gyumin/mobility/week12/gridworld_sample.ipynb#X23sZmlsZQ%3D%3D?line=19'>20</a>\u001b[0m     environment\u001b[39m.\u001b[39mset_state(s0)\n\u001b[0;32m---> <a href='vscode-notebook-cell:/home/gyumin/mobility/week12/gridworld_sample.ipynb#X23sZmlsZQ%3D%3D?line=20'>21</a>\u001b[0m     s1, r \u001b[39m=\u001b[39m environment\u001b[39m.\u001b[39;49mtransition(a)\n\u001b[1;32m     <a href='vscode-notebook-cell:/home/gyumin/mobility/week12/gridworld_sample.ipynb#X23sZmlsZQ%3D%3D?line=21'>22</a>\u001b[0m     v_s1 \u001b[39m=\u001b[39m state_values[s1]\n\u001b[1;32m     <a href='vscode-notebook-cell:/home/gyumin/mobility/week12/gridworld_sample.ipynb#X23sZmlsZQ%3D%3D?line=23'>24</a>\u001b[0m     action_values \u001b[39m=\u001b[39m r \u001b[39m+\u001b[39m gamma \u001b[39m+\u001b[39mv_s1\n",
      "\u001b[1;32m/home/gyumin/mobility/week12/gridworld_sample.ipynb Cell 18\u001b[0m line \u001b[0;36m2\n\u001b[1;32m     <a href='vscode-notebook-cell:/home/gyumin/mobility/week12/gridworld_sample.ipynb#X23sZmlsZQ%3D%3D?line=25'>26</a>\u001b[0m     reward \u001b[39m=\u001b[39m \u001b[39m5\u001b[39m\n\u001b[1;32m     <a href='vscode-notebook-cell:/home/gyumin/mobility/week12/gridworld_sample.ipynb#X23sZmlsZQ%3D%3D?line=26'>27</a>\u001b[0m \u001b[39melse\u001b[39;00m:\n\u001b[0;32m---> <a href='vscode-notebook-cell:/home/gyumin/mobility/week12/gridworld_sample.ipynb#X23sZmlsZQ%3D%3D?line=27'>28</a>\u001b[0m     new_state \u001b[39m=\u001b[39m \u001b[39mself\u001b[39;49m\u001b[39m.\u001b[39;49m_transition_state(action)\n\u001b[1;32m     <a href='vscode-notebook-cell:/home/gyumin/mobility/week12/gridworld_sample.ipynb#X23sZmlsZQ%3D%3D?line=28'>29</a>\u001b[0m     \u001b[39m# invalid move\u001b[39;00m\n\u001b[1;32m     <a href='vscode-notebook-cell:/home/gyumin/mobility/week12/gridworld_sample.ipynb#X23sZmlsZQ%3D%3D?line=29'>30</a>\u001b[0m     \u001b[39mif\u001b[39;00m new_state \u001b[39m==\u001b[39m \u001b[39mself\u001b[39m\u001b[39m.\u001b[39mstate:\n",
      "\u001b[1;32m/home/gyumin/mobility/week12/gridworld_sample.ipynb Cell 18\u001b[0m line \u001b[0;36m1\n\u001b[1;32m      <a href='vscode-notebook-cell:/home/gyumin/mobility/week12/gridworld_sample.ipynb#X23sZmlsZQ%3D%3D?line=8'>9</a>\u001b[0m \u001b[39mdef\u001b[39;00m \u001b[39m_transition_state\u001b[39m(\u001b[39mself\u001b[39m, action):\n\u001b[1;32m     <a href='vscode-notebook-cell:/home/gyumin/mobility/week12/gridworld_sample.ipynb#X23sZmlsZQ%3D%3D?line=9'>10</a>\u001b[0m \u001b[39m    \u001b[39m\u001b[39m\"\"\"Try to apply the ACTION and check whether it is valid\"\"\"\u001b[39;00m\n\u001b[0;32m---> <a href='vscode-notebook-cell:/home/gyumin/mobility/week12/gridworld_sample.ipynb#X23sZmlsZQ%3D%3D?line=10'>11</a>\u001b[0m     x, y \u001b[39m=\u001b[39m action\u001b[39m.\u001b[39mtransition(\u001b[39mself\u001b[39m\u001b[39m.\u001b[39mstate)\n\u001b[1;32m     <a href='vscode-notebook-cell:/home/gyumin/mobility/week12/gridworld_sample.ipynb#X23sZmlsZQ%3D%3D?line=11'>12</a>\u001b[0m     \u001b[39mif\u001b[39;00m x \u001b[39m<\u001b[39m \u001b[39m0\u001b[39m \u001b[39mor\u001b[39;00m x \u001b[39m>\u001b[39m\u001b[39m=\u001b[39m \u001b[39mself\u001b[39m\u001b[39m.\u001b[39mdim:\n\u001b[1;32m     <a href='vscode-notebook-cell:/home/gyumin/mobility/week12/gridworld_sample.ipynb#X23sZmlsZQ%3D%3D?line=12'>13</a>\u001b[0m         \u001b[39mreturn\u001b[39;00m \u001b[39mself\u001b[39m\u001b[39m.\u001b[39mstate\n",
      "\u001b[0;31mKeyboardInterrupt\u001b[0m: "
     ]
    }
   ],
   "source": [
    "vi_state_values = value_iteration()\n",
    "display_state_values(vi_state_values, title='Value Iteration')\n",
    "vi_state_values"
   ]
  },
  {
   "cell_type": "code",
   "execution_count": null,
   "metadata": {},
   "outputs": [
    {
     "data": {
      "image/png": "[encoded data removed]",
      "text/plain": [
       "<Figure size 480x480 with 2 Axes>"
      ]
     },
     "metadata": {},
     "output_type": "display_data"
    },
    {
     "data": {
      "text/plain": [
       "array([[22. , 24.4, 22. , 19.4, 17.5],\n",
       "       [19.8, 22. , 19.8, 17.8, 16. ],\n",
       "       [17.8, 19.8, 17.8, 16. , 14.4],\n",
       "       [16. , 17.8, 16. , 14.4, 13. ],\n",
       "       [14.4, 16. , 14.4, 13. , 11.7]])"
      ]
     },
     "execution_count": 15,
     "metadata": {},
     "output_type": "execute_result"
    }
   ],
   "source": [
    "display_state_values(expected_values, title='Solution: Optimal Agent')\n",
    "expected_values"
   ]
  },
  {
   "cell_type": "markdown",
   "metadata": {},
   "source": [
    "# Monte Carlo"
   ]
  },
  {
   "cell_type": "code",
   "execution_count": null,
   "metadata": {},
   "outputs": [],
   "source": [
    "\n",
    "#몬테카를로 실습\n",
    "def mc_prediction(gamma=0.9, dim=5, T=32, iterations=int(1e4), log_frequency=None):\n",
    "    if log_frequency is None:\n",
    "        log_frequency = iterations + 1\n",
    "\n",
    "    #여기서는 agent가 랜덤이었음!\n",
    "    agent = RandomAgent(name='First-Value MC Prediction: Random Agent') # 만약 탐욕적 정책 agent를 사용한다면 학습이 실패함(모든 state를 방문하지 못하기 때문)\n",
    "    returns = {s: (0, 0) for s in product(range(dim), range(dim))} # 이득\n",
    "    environment = Gridworld()\n",
    "\n",
    "    for i in range(1, iterations):\n",
    "        if i % log_frequency == 0:\n",
    "            display_state_values(agent.state_values, title=f'MC Prediction: Iteration {i}')\n",
    "        \n",
    "        # 시뮬레이션 수행(에피소드 수행)\n",
    "        s0 = (random.randint(0, 4), random.randint(0, 4)) # 무작위 시작위치\n",
    "        environment.set_state(s0)\n",
    "        episode = [s0]  # 에피소드 정보 추가(s0, a0, s1, r1, a1, s2, r2, a2, s3...)\n",
    "        for _ in range(T): # T: 최대 에피소드 길이\n",
    "            # to-do\n",
    "            a0 = agent.policy(s)\n",
    "            s1, r1 = environment.transition(a0)\n",
    "            episode.extend([a0, s1, r1])\n",
    "            s0 = s1\n",
    "\n",
    "        # 에피소드의 끝 부분부터 이득값 업데이트\n",
    "        ret = 0 # 이득값\n",
    "        j = T - 1\n",
    "        episode_returns = {} # 에피소드를 진행하며 지나친 state에서의 이득값 업데이트\n",
    "        while j > 0:\n",
    "            # to-do\n",
    "            r1 = episode[3*j + 3] # reward(앞에서 빼옴 이미 이전 step의 reward임),\n",
    "            s0 = episode[3*j -1] # state 앞에서 빼오기!\n",
    "            j -= 1\n",
    "\n",
    "            ret = r1+ gamma * ret\n",
    "            episode_returns[s0] = ret # 이런 리턴값을 얻었다~ 이 에피소드에서는! 이렇게 넣어두기!\n",
    "            \n",
    "\n",
    "\n",
    "        # state values v(s) 업데이트\n",
    "        for s, ret in episode_returns.items(): # 아이템들을 빼와서 (state랑 리턴값을 빼옴)\n",
    "            # to-do\n",
    "            mean_ret, c = returns[s]\n",
    "            returns[s] = ((mean_ret*c+ret) / (c+1), c+1)\n",
    "            agent.state_values[s] = returns[s][0]\n",
    "\n",
    "\n",
    "    return agent"
   ]
  },
  {
   "cell_type": "code",
   "execution_count": null,
   "metadata": {},
   "outputs": [
    {
     "data": {
      "image/png": "[encoded data removed]",
      "text/plain": [
       "<Figure size 480x480 with 2 Axes>"
      ]
     },
     "metadata": {},
     "output_type": "display_data"
    },
    {
     "data": {
      "text/plain": [
       "array([[ 2.98540603,  9.07475366,  4.0480447 ,  5.226059  ,  1.18772246],\n",
       "       [ 1.22256509,  2.71264464,  1.89642754,  1.65799898,  0.32780257],\n",
       "       [-0.0705809 ,  0.59527715,  0.52299   ,  0.29088951, -0.43774269],\n",
       "       [-0.85812579, -0.34668997, -0.25800955, -0.4528496 , -0.99813033],\n",
       "       [-1.58193352, -1.12528862, -0.96856086, -1.12375309, -1.62805731]])"
      ]
     },
     "execution_count": 28,
     "metadata": {},
     "output_type": "execute_result"
    }
   ],
   "source": [
    "mcp_agent = mc_prediction(iterations=int(1e6), T=16)\n",
    "display_state_values(mcp_agent.state_values, title='First-Visit MC Prediction: Random Agent', plot_actions=False)\n",
    "mcp_agent.state_values"
   ]
  },
  {
   "cell_type": "code",
   "execution_count": 42,
   "metadata": {},
   "outputs": [
    {
     "ename": "IndentationError",
     "evalue": "expected an indented block (4142697768.py, line 33)",
     "output_type": "error",
     "traceback": [
      "\u001b[0;36m  Cell \u001b[0;32mIn[42], line 33\u001b[0;36m\u001b[0m\n\u001b[0;31m    for (x, y, a), ret in episode_returns.items():\u001b[0m\n\u001b[0m    ^\u001b[0m\n\u001b[0;31mIndentationError\u001b[0m\u001b[0;31m:\u001b[0m expected an indented block\n"
     ]
    }
   ],
   "source": [
    "def mc_control(gamma=0.9, dim=5, T=32, iterations=int(1e4), log_frequency=None):\n",
    "    if log_frequency is None:\n",
    "        log_frequency = iterations + 1\n",
    "\n",
    "    # 근데 여기서는 Agent가 e greedy임\n",
    "    agent = LearnedAgent(name='MC Control', epsilon=0.01)  # e-greedy 정책 에이전트\n",
    "    returns = {(x, y, a): (0, 0) for x, y, a in product(range(dim), range(dim), [a for a in Action])}\n",
    "    environment = Gridworld()\n",
    "\n",
    "    for i in range(1, iterations):\n",
    "        if i % log_frequency == 0:\n",
    "            display_state_values(agent.action_values.max(axis=2), title=f'MC Control: Iteration {i}')\n",
    "\n",
    "        # 시뮬레이션\n",
    "        x, y, a0 = (random.randint(0, 4), random.randint(0, 4), random.choice([a for a in Action]))\n",
    "        s0 = (x, y)\n",
    "        environment.set_state(s0)\n",
    "        episode = [s0]  # s0, a0, s1, r1, a1, s2, r2, a2, s3...\n",
    "        for _ in range(T):\n",
    "            # to-do\n",
    "            s1,r1 = environment.transition(a0)\n",
    "            episode.extend([a0, s1, r1])\n",
    "            a0 = agent.policy(s1)\n",
    "\n",
    "        # 이득값 업데이트\n",
    "        ret = 0\n",
    "        j = T - 1\n",
    "        episode_returns = {}\n",
    "        while j > 0:\n",
    "            # to-do\n",
    "\n",
    "        # 가치함수 업데이트\n",
    "        for (x, y, a), ret in episode_returns.items():\n",
    "            # to-do\n",
    "            \n",
    "\n",
    "        # 에이전트의 정책 업데이트트\n",
    "        agent.policy_improvement()\n",
    "        \n",
    "    return agent"
   ]
  },
  {
   "cell_type": "code",
   "execution_count": null,
   "metadata": {},
   "outputs": [
    {
     "data": {
      "image/png": "[encoded data removed]",
      "text/plain": [
       "<Figure size 480x480 with 2 Axes>"
      ]
     },
     "metadata": {},
     "output_type": "display_data"
    },
    {
     "data": {
      "text/plain": [
       "array([[16.99542012, 18.64664474, 16.12319893, 13.8570847 , 13.09806029],\n",
       "       [15.07473257, 14.71218864, 14.19594149, 12.29260978, 10.80464581],\n",
       "       [13.40369036, 13.04059951, 12.5243148 , 10.6992124 ,  9.19498248],\n",
       "       [11.93290826, 11.54879308, 10.99696322,  9.48360619,  8.58282918],\n",
       "       [ 8.9022931 , 10.2244661 ,  8.89948673,  8.57422998,  7.68775949]])"
      ]
     },
     "execution_count": 19,
     "metadata": {},
     "output_type": "execute_result"
    }
   ],
   "source": [
    "mcc_agent = mc_control(iterations=int(1e6), T=16)\n",
    "display_state_values(mcc_agent.action_values.max(axis=2), title='First-Visit MC Control')\n",
    "mcc_agent.action_values.max(axis=2)"
   ]
  },
  {
   "cell_type": "markdown",
   "metadata": {},
   "source": [
    "# TD"
   ]
  },
  {
   "cell_type": "code",
   "execution_count": 43,
   "metadata": {},
   "outputs": [],
   "source": [
    "def td_prediction(alpha, every_visit=False, gamma=0.9, dim=5, T=32, iterations=int(1e4), log_frequency=None):\n",
    "    if log_frequency is None:\n",
    "        log_frequency = iterations + 1\n",
    "\n",
    "    agent = RandomAgent(name='TD Prediction: Random Agent')\n",
    "    environment = Gridworld()\n",
    "    for i in range(1, iterations):\n",
    "        if i % log_frequency == 0:\n",
    "            display_state_values(agent.state_values, title=f'TD Prediction: Iteration {i}')\n",
    "        \n",
    "        # 시뮬레이션\n",
    "        s0 = (random.randint(0, 4), random.randint(0, 4))\n",
    "        environment.set_state(s0)\n",
    "        for _ in range(T): # 최대 에피소드 길이만큼 수행\n",
    "            # to-do\n",
    "            \n",
    "            # Agent의 정책에 따라 action을 선택하고, 환경에 입력하여 s1과 r1을 획득\n",
    "            \n",
    "            # 가치함수 업데이트\n",
    "            \n",
    "            # Prep the next timestep\n",
    "            s0 = s1\n",
    "            \n",
    "    return agent"
   ]
  },
  {
   "cell_type": "code",
   "execution_count": null,
   "metadata": {},
   "outputs": [
    {
     "data": {
      "image/png": "[encoded data removed]",
      "text/plain": [
       "<Figure size 480x480 with 2 Axes>"
      ]
     },
     "metadata": {},
     "output_type": "display_data"
    },
    {
     "data": {
      "text/plain": [
       "array([[ 3.4049576 ,  8.88381718,  4.4923571 ,  5.28228463,  1.60114413],\n",
       "       [ 1.3130444 ,  4.27857392,  2.36273356,  1.45494007, -0.02548308],\n",
       "       [ 0.36268606,  1.43299278,  0.90623621,  0.096198  , -0.863637  ],\n",
       "       [-0.58185486, -0.11791593, -0.16949215, -0.55507565, -1.23462841],\n",
       "       [-1.78309965, -1.28392662, -1.11506457, -1.38068724, -2.23907905]])"
      ]
     },
     "execution_count": 22,
     "metadata": {},
     "output_type": "execute_result"
    }
   ],
   "source": [
    "tdp_agent = td_prediction(0.05, iterations=int(1e4), T=16)\n",
    "display_state_values(tdp_agent.state_values, title='TD: Prediction (Random Agent)', plot_actions=False)\n",
    "tdp_agent.state_values"
   ]
  },
  {
   "cell_type": "code",
   "execution_count": 44,
   "metadata": {},
   "outputs": [],
   "source": [
    "# SARSA 알고리즘\n",
    "def td_control(alpha, every_visit=False, gamma=0.9, dim=5, T=32, iterations=int(1e4), log_frequency=None):\n",
    "    if log_frequency is None:\n",
    "        log_frequency = iterations + 1\n",
    "\n",
    "    agent = LearnedAgent(name='TD Control', epsilon=0.01)  # 모델이 필요없는 e-greedy 에이전트\n",
    "    environment = Gridworld()\n",
    "    for i in range(1, iterations):\n",
    "        if i % log_frequency == 0:\n",
    "            display_state_values(agent.action_values.max(axis=2), title=f'TD Control: Iteration {i}')\n",
    "\n",
    "        # 시뮬레이션 수행 (state, action)\n",
    "        x, y, a0 = (random.randint(0, 4), random.randint(0, 4), random.choice([a for a in Action]))\n",
    "        sa0 = (x, y, a0.index)\n",
    "        environment.set_state((x, y))\n",
    "\n",
    "        for _ in range(T):\n",
    "            # to-do\n",
    "            s1,r1 = environment.transition(a0)\n",
    "            a1 = agent.policy(s1)\n",
    "\n",
    "            sa1 = (s1[0], s1[1], a1.index)\n",
    "            q0 = agent.action_values[sa0]\n",
    "            q1 = agent.action_values[sa1]\n",
    "            \n",
    "            # q value 업데이트 및 정책 업데이트\n",
    "            agent.action_values[sa0] = q0 + alpha * (r1 + gamma * q1 - q0)\n",
    "            agent.update_state_policy((sa0[0], sa0[1]))\n",
    "            # to-do\n",
    "\n",
    "            \n",
    "            # Prep the next timestep            \n",
    "            a0 = a1\n",
    "            sa0 = sa1 \n",
    "\n",
    "    return agent"
   ]
  },
  {
   "cell_type": "code",
   "execution_count": 45,
   "metadata": {},
   "outputs": [
    {
     "data": {
      "image/png": "[encoded data removed]",
      "text/plain": [
       "<Figure size 480x480 with 2 Axes>"
      ]
     },
     "metadata": {},
     "output_type": "display_data"
    },
    {
     "data": {
      "text/plain": [
       "array([[21.97642827, 24.4194281 , 21.97383064, 19.39122849, 17.27503413],\n",
       "       [19.77970572, 21.97748529, 19.77973676, 17.80176308, 15.96584687],\n",
       "       [17.80172417, 19.77973676, 17.8015606 , 16.02158677, 14.37187051],\n",
       "       [16.02158677, 17.80176308, 16.02158668, 14.41930527, 12.8962254 ],\n",
       "       [14.4193719 , 16.02158677, 14.41869205, 12.9652735 , 11.53982779]])"
      ]
     },
     "execution_count": 45,
     "metadata": {},
     "output_type": "execute_result"
    }
   ],
   "source": [
    "tdc_agent = td_control(0.05, iterations=int(1e4), T=16)\n",
    "display_state_values(tdc_agent.action_values.max(axis=2), title='Temporal Difference: Control')\n",
    "tdc_agent.action_values.max(axis=2)"
   ]
  },
  {
   "cell_type": "code",
   "execution_count": null,
   "metadata": {},
   "outputs": [],
   "source": []
  },
  {
   "cell_type": "code",
   "execution_count": null,
   "metadata": {},
   "outputs": [],
   "source": []
  }
 ],
 "metadata": {
  "kernelspec": {
   "display_name": "Python 3",
   "language": "python",
   "name": "python3"
  },
  "language_info": {
   "codemirror_mode": {
    "name": "ipython",
    "version": 3
   },
   "file_extension": ".py",
   "mimetype": "text/x-python",
   "name": "python",
   "nbconvert_exporter": "python",
   "pygments_lexer": "ipython3",
   "version": "3.8.10"
  }
 },
 "nbformat": 4,
 "nbformat_minor": 2
}
